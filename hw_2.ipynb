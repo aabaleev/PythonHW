{
 "cells": [
  {
   "cell_type": "code",
   "execution_count": 16,
   "id": "11a3e5c9",
   "metadata": {},
   "outputs": [
    {
     "name": "stdout",
     "output_type": "stream",
     "text": [
      "phrase_1: qqq\n",
      "phrase_2: q\n",
      "Фраза 1 длиннее фразы 2\n"
     ]
    }
   ],
   "source": [
    "# 1\n",
    "phrase_1=input(\"phrase_1: \")\n",
    "phrase_2=input(\"phrase_2: \")\n",
    "if len(phrase_1)>len(phrase_2):\n",
    "    print(\"Фраза 1 длиннее фразы 2\")\n",
    "if len(phrase_1)<len(phrase_2):\n",
    "        print(\"Фраза 2 длиннее фразы 1\")\n",
    "if len(phrase_1)==len(phrase_2):\n",
    "        print(\"Фраза 1 и фраза 2 одинаковой длины\")\n",
    "        "
   ]
  },
  {
   "cell_type": "code",
   "execution_count": 29,
   "id": "54d0e806",
   "metadata": {},
   "outputs": [
    {
     "name": "stdout",
     "output_type": "stream",
     "text": [
      "year: 2021\n",
      "2021 невисокосный год\n"
     ]
    }
   ],
   "source": [
    "# 2\n",
    "year=int(input(\"year: \"))\n",
    "if (year % 4 == 0):\n",
    "         print(year, \"високосный год\")\n",
    "else:\n",
    "         print(year, \"невисокосный год\")"
   ]
  },
  {
   "cell_type": "code",
   "execution_count": 89,
   "id": "cf8f9a58",
   "metadata": {},
   "outputs": [
    {
     "name": "stdout",
     "output_type": "stream",
     "text": [
      "Введите день (число): 1\n",
      "Введите месяц (прописью): октябрь\n",
      "Ваш знак зодиака: весы\n"
     ]
    }
   ],
   "source": [
    "#3\n",
    "day=int(input(\"Введите день (число): \"))\n",
    "month=str(input(\"Введите месяц (прописью): \"))\n",
    "if (month==\"март\") and (21<=day<=31):\n",
    "    print('Ваш знак зодиака: овен')\n",
    "if (month==\"апрель\") and (1<=day<=20):\n",
    "    print('Ваш знак зодиака: овен')\n",
    "if (month==\"апрель\") and (21<=day<=30):\n",
    "    print('Ваш знак зодиака: телец')\n",
    "if (month==\"май\") and (1<=day<=21):\n",
    "    print('Ваш знак зодиака: телец')\n",
    "if (month==\"май\") and (22<=day<=31):\n",
    "    print('Ваш знак зодиака: близнецы')\n",
    "if (month==\"июнь\") and (1<=day<=21):\n",
    "    print('Ваш знак зодиака: близнецы')\n",
    "if (month==\"июнь\") and (22<=day<=30):\n",
    "    print('Ваш знак зодиака: рак')\n",
    "if (month==\"июль\") and (1<=day<=22):\n",
    "    print('Ваш знак зодиака: рак')\n",
    "if (month==\"июль\") and (23<=day<=31):\n",
    "    print('Ваш знак зодиака: лев')\n",
    "if (month==\"август\") and (1<=day<=21):\n",
    "    print('Ваш знак зодиака: лев')\n",
    "if (month==\"август\") and (22<=day<=31):\n",
    "    print('Ваш знак зодиака: дева')\n",
    "if (month==\"сентябрь\") and (1<=day<=23):\n",
    "    print('Ваш знак зодиака: дева')\n",
    "if (month==\"сентябрь\") and (24<=day<=30):\n",
    "    print('Ваш знак зодиака: весы')\n",
    "if (month==\"октябрь\") and (1<=day<=23):\n",
    "    print('Ваш знак зодиака: весы')\n",
    "if (month==\"октябрь\") and (24<=day<=31):\n",
    "    print('Ваш знак зодиака: скорпион')\n",
    "if (month==\"ноябрь\") and (1<=day<=22):\n",
    "    print('Ваш знак зодиака: скорпион')\n",
    "if (month==\"ноябрь\") and (23<=day<=30):\n",
    "    print('Ваш знак зодиака: стрелец')\n",
    "if (month==\"декабрь\") and (1<=day<=22):\n",
    "    print('Ваш знак зодиака: стрелец')\n",
    "if (month==\"декабрь\") and (23<=day<=31):\n",
    "    print('Ваш знак зодиака: козерог')\n",
    "if (month==\"январь\") and (1<=day<=20):\n",
    "    print('козерог')\n",
    "if (month==\"январь\") and (21<=day<=31):\n",
    "    print('Ваш знак зодиака: водолей')\n",
    "if (month==\"февраль\") and (1<=day<=19):\n",
    "    print('Ваш знак зодиака: водолей')\n",
    "if (month==\"февраль\") and (20<=day<=29):\n",
    "    print('Ваш знак зодиака: рыбы')\n",
    "if (month==\"март\") and (1<=day<=20):\n",
    "    print('Ваш знак зодиака: рыба')"
   ]
  },
  {
   "cell_type": "code",
   "execution_count": 111,
   "id": "2590c8a3",
   "metadata": {},
   "outputs": [
    {
     "name": "stdout",
     "output_type": "stream",
     "text": [
      "Введите ширину товара: 10\n",
      "Введите длину товара: 300\n",
      "Введите высоту товара: 54\n",
      "Упаковка для лыж\n"
     ]
    }
   ],
   "source": [
    "#4\n",
    "width=int(input('Введите ширину товара: '))\n",
    "length=int(input('Введите длину товара: ')) \n",
    "height=int(input('Введите высоту товара: '))\n",
    "if (width<15) and (length<15) and (height<15):\n",
    "    print('Коробка №1')\n",
    "if (15<=width<50) or (15<=length<50) or (15<=height<50):\n",
    "    print('Коробка №2')\n",
    "if (200<length):\n",
    "    print('Упаковка для лыж')\n",
    "if (width>50) and (200>length>50) and (height>50):\n",
    "    print('Стандартная коробка №3')"
   ]
  },
  {
   "cell_type": "code",
   "execution_count": 138,
   "id": "753347b8",
   "metadata": {},
   "outputs": [
    {
     "name": "stdout",
     "output_type": "stream",
     "text": [
      "Введите шестизначный номер билета: 222123\n",
      "Счастливый билет\n"
     ]
    }
   ],
   "source": [
    "#5\n",
    "ticket_number=int(input('Введите шестизначный номер билета: '))\n",
    "a=ticket_number//1000\n",
    "b=ticket_number%1000\n",
    "one=a//100\n",
    "two=a//10%10\n",
    "three=a%10\n",
    "four=b//100\n",
    "five=b//10%10\n",
    "six=b%10\n",
    "if (one+two+three)==(four+five+six):\n",
    "    print('Счастливый билет')\n",
    "else:\n",
    "    print('несчастливый билет')"
   ]
  },
  {
   "cell_type": "code",
   "execution_count": 25,
   "id": "a0bd429d",
   "metadata": {},
   "outputs": [
    {
     "name": "stdout",
     "output_type": "stream",
     "text": [
      "Типы фигур:\n",
      "круг\n",
      "треугольник\n",
      "прямоугольник\n",
      "Выберите тип фигуры: прямоугольник\n",
      "введите длину стороны А: 3\n",
      "введите длину стороны B: 4\n",
      "площадь прямоугольника: 12\n"
     ]
    }
   ],
   "source": [
    "#6\n",
    "print('Типы фигур:')\n",
    "print('круг')\n",
    "print('треугольник')\n",
    "print('прямоугольник')\n",
    "choise=input('Выберите тип фигуры: ')\n",
    "if (choise=='круг'):\n",
    "    radius=int(input('введите радиус круга: '))\n",
    "    print('площадь круга:', 3.14*radius**2)\n",
    "if (choise=='треугольник'):\n",
    "    a=int(input('введите длину стороны А: '))\n",
    "    b=int(input('введите длину стороны B: '))\n",
    "    c=int(input('введите длину стороны C: '))\n",
    "    p=(a+b+c)/2\n",
    "    print('площадь треугольника:', (p*(p-a)*(p-b)*(p-c))**(0.5))\n",
    "if (choise=='прямоугольник'):\n",
    "    a=int(input('введите длину стороны А: '))\n",
    "    b=int(input('введите длину стороны B: '))\n",
    "    print('площадь прямоугольника:', a*b)"
   ]
  }
 ],
 "metadata": {
  "kernelspec": {
   "display_name": "Python 3",
   "language": "python",
   "name": "python3"
  },
  "language_info": {
   "codemirror_mode": {
    "name": "ipython",
    "version": 3
   },
   "file_extension": ".py",
   "mimetype": "text/x-python",
   "name": "python",
   "nbconvert_exporter": "python",
   "pygments_lexer": "ipython3",
   "version": "3.8.8"
  }
 },
 "nbformat": 4,
 "nbformat_minor": 5
}
